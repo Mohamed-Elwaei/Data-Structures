{
 "cells": [
  {
   "cell_type": "markdown",
   "metadata": {},
   "source": [
    "![Alt text](image.png)"
   ]
  },
  {
   "cell_type": "code",
   "execution_count": 14,
   "metadata": {},
   "outputs": [
    {
     "name": "stdout",
     "output_type": "stream",
     "text": [
      "Example 1: Text: ababcababcabc\n",
      "Pattern: abc\n",
      "Occurrences: [2, 7, 10]\n",
      "\n",
      "Example 2: Text: hello\n",
      "Pattern: ll\n",
      "Occurrences: [2]\n"
     ]
    }
   ],
   "source": [
    "def rabin_karp(s,t):\n",
    "    S,T  = len(s), len(t)\n",
    "    p_pow = [1] * max(S,T)\n",
    "\n",
    "    m,p = 10**9 + 9, 31\n",
    "    for i in range(1,len(p_pow)):\n",
    "        p_pow[i] = (p_pow[i-1] * p) % m\n",
    "    \n",
    "    h_t = [0] * (T+1)\n",
    "\n",
    "    for i,char in enumerate(t):\n",
    "        h_t[i+1] = (h_t[i] + (ord(char) - ord('a') + 1) * p_pow[i]) % m\n",
    "    \n",
    "    h_s = 0\n",
    "    for i in range(S):\n",
    "        h_s = (h_s + (ord(s[i]) - ord('a') + 1) * p_pow[i]) % m\n",
    "\n",
    "\n",
    "    ocurrences = []\n",
    "    for i in range(T-S+1):\n",
    "        curr_h = (h_t[i+S] - h_t[i]) % m\n",
    "        if curr_h == (h_s * p_pow[i]) % m:\n",
    "            ocurrences.append(i)\n",
    "    return ocurrences\n",
    "\n",
    "text1 = \"ababcababcabc\"\n",
    "pattern1 = \"abc\"\n",
    "result1 = rabin_karp(pattern1, text1)\n",
    "print(\"Example 1: Text:\", text1)\n",
    "print(\"Pattern:\", pattern1)\n",
    "print(\"Occurrences:\", result1)\n",
    "print()\n",
    "\n",
    "# Example 2\n",
    "text2 = \"thequickbrownfoxjumpsoverthelazydog\"\n",
    "pattern2 = \"the\"\n",
    "result2 = rabin_karp(pattern2, text2)\n",
    "print(\"Example 2: Text:\", text2)\n",
    "print(\"Pattern:\", pattern2)\n",
    "print(\"Occurrences:\", result2)\n",
    "\n",
    "text2 = \"hello\"\n",
    "pattern2 = \"ll\"\n",
    "result2 = rabin_karp(pattern2, text2)\n",
    "print(\"Example 2: Text:\", text2)\n",
    "print(\"Pattern:\", pattern2)\n",
    "print(\"Occurrences:\", result2)"
   ]
  },
  {
   "cell_type": "code",
   "execution_count": null,
   "metadata": {},
   "outputs": [],
   "source": []
  }
 ],
 "metadata": {
  "kernelspec": {
   "display_name": "Python 3",
   "language": "python",
   "name": "python3"
  },
  "language_info": {
   "codemirror_mode": {
    "name": "ipython",
    "version": 3
   },
   "file_extension": ".py",
   "mimetype": "text/x-python",
   "name": "python",
   "nbconvert_exporter": "python",
   "pygments_lexer": "ipython3",
   "version": "3.11.3"
  },
  "orig_nbformat": 4
 },
 "nbformat": 4,
 "nbformat_minor": 2
}
