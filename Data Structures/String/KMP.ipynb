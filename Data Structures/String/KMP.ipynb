{
 "cells": [
  {
   "cell_type": "markdown",
   "metadata": {},
   "source": [
    "# Prefix Function"
   ]
  },
  {
   "cell_type": "code",
   "execution_count": 1,
   "metadata": {},
   "outputs": [
    {
     "name": "stdout",
     "output_type": "stream",
     "text": [
      "[0, 1, 0, 1, 2, 2, 3]\n"
     ]
    }
   ],
   "source": [
    "def compute_prefix_function(s):\n",
    "    n = len(s)\n",
    "    pi = [0] * n\n",
    "    j = 0\n",
    "    for i in range(1,n):\n",
    "        while j>0 and s[i]!=s[j]:\n",
    "            j = pi[j - 1]\n",
    "        if s[i] == s[j]:\n",
    "            j+=1\n",
    "        \n",
    "        pi[i] = j\n",
    "    return pi\n",
    "\n",
    "\n",
    "print(compute_prefix_function('aabaaab'))"
   ]
  },
  {
   "cell_type": "markdown",
   "metadata": {},
   "source": [
    "# KMP Search\n"
   ]
  },
  {
   "cell_type": "code",
   "execution_count": 2,
   "metadata": {},
   "outputs": [
    {
     "name": "stdout",
     "output_type": "stream",
     "text": [
      "Pattern found at positions: [10]\n"
     ]
    }
   ],
   "source": [
    "def kmp_search(text, pattern):\n",
    "    pi = compute_prefix_function(pattern)\n",
    "    matches = []\n",
    "\n",
    "    j=0\n",
    "    for i in range(1,len(text)):\n",
    "\n",
    "        while j>0 and text[i] != pattern[j]:\n",
    "            j = pi[j - 1]\n",
    "        \n",
    "        if text[i] == pattern[j]:\n",
    "            j+=1\n",
    "        \n",
    "        if j == len(pattern):\n",
    "            matches.append( i - j + 1)\n",
    "            j = pi[j-1]\n",
    "        \n",
    "    return matches\n",
    "\n",
    "# Example usage:\n",
    "text = \"ABABDABACDABABCABAB\"\n",
    "pattern = \"ABABCABAB\"\n",
    "matches = kmp_search(text, pattern)\n",
    "if matches:\n",
    "    print(f\"Pattern found at positions: {matches}\")\n",
    "else:\n",
    "    print(\"Pattern not found in the text.\")"
   ]
  }
 ],
 "metadata": {
  "kernelspec": {
   "display_name": "Python 3",
   "language": "python",
   "name": "python3"
  },
  "language_info": {
   "codemirror_mode": {
    "name": "ipython",
    "version": 3
   },
   "file_extension": ".py",
   "mimetype": "text/x-python",
   "name": "python",
   "nbconvert_exporter": "python",
   "pygments_lexer": "ipython3",
   "version": "3.11.3"
  },
  "orig_nbformat": 4
 },
 "nbformat": 4,
 "nbformat_minor": 2
}
